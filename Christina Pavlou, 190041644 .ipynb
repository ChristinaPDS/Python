{
 "cells": [
  {
   "cell_type": "markdown",
   "metadata": {},
   "source": [
    "INM430 Principles of Data Science \n",
    "\n",
    "Student Name: Christina Pavlou\n",
    "Student ID: 190041644"
   ]
  },
  {
   "cell_type": "markdown",
   "metadata": {},
   "source": [
    "The purpose of the paper is to analyse high risk countries by calculating deaths per cases. \n",
    "High risk countries are some of the highest in the following 4 categories, oldest population, smoking, asthma and cancer. The mentioned health concerns have been indicated by health professionals to comprise vulnerable groups of people and who are of higher risk when contracting Covid-19. "
   ]
  },
  {
   "cell_type": "markdown",
   "metadata": {},
   "source": [
    "Libraries used for the project"
   ]
  },
  {
   "cell_type": "code",
   "execution_count": 1,
   "metadata": {},
   "outputs": [],
   "source": [
    "import numpy as np \n",
    "import pandas as pd\n",
    "import matplotlib.pyplot as plt\n",
    "import scipy.stats as stats\n",
    "import seaborn as sn"
   ]
  },
  {
   "cell_type": "code",
   "execution_count": 2,
   "metadata": {},
   "outputs": [],
   "source": [
    "covid19df = pd.read_csv('full_grouped.csv')"
   ]
  },
  {
   "cell_type": "markdown",
   "metadata": {},
   "source": [
    "Check the dataset for any missing values "
   ]
  },
  {
   "cell_type": "code",
   "execution_count": 3,
   "metadata": {},
   "outputs": [
    {
     "data": {
      "text/plain": [
       "Date              0\n",
       "Country/Region    0\n",
       "Confirmed         0\n",
       "Deaths            0\n",
       "Recovered         0\n",
       "Active            0\n",
       "New cases         0\n",
       "New deaths        0\n",
       "New recovered     0\n",
       "WHO Region        0\n",
       "dtype: int64"
      ]
     },
     "execution_count": 3,
     "metadata": {},
     "output_type": "execute_result"
    }
   ],
   "source": [
    "covid19df.isnull().sum()"
   ]
  },
  {
   "cell_type": "code",
   "execution_count": 4,
   "metadata": {},
   "outputs": [
    {
     "data": {
      "text/plain": [
       "Date              35156\n",
       "Country/Region    35156\n",
       "Confirmed         35156\n",
       "Deaths            35156\n",
       "Recovered         35156\n",
       "Active            35156\n",
       "New cases         35156\n",
       "New deaths        35156\n",
       "New recovered     35156\n",
       "WHO Region        35156\n",
       "dtype: int64"
      ]
     },
     "execution_count": 4,
     "metadata": {},
     "output_type": "execute_result"
    }
   ],
   "source": [
    "covid19df.count()"
   ]
  },
  {
   "cell_type": "markdown",
   "metadata": {},
   "source": [
    "List all the countries that are inlcuded in the dataset"
   ]
  },
  {
   "cell_type": "code",
   "execution_count": 5,
   "metadata": {},
   "outputs": [],
   "source": [
    "countries = covid19df['Country/Region'].unique()"
   ]
  },
  {
   "cell_type": "code",
   "execution_count": 6,
   "metadata": {},
   "outputs": [
    {
     "data": {
      "text/plain": [
       "array(['Afghanistan', 'Albania', 'Algeria', 'Andorra', 'Angola',\n",
       "       'Antigua and Barbuda', 'Argentina', 'Armenia', 'Australia',\n",
       "       'Austria', 'Azerbaijan', 'Bahamas', 'Bahrain', 'Bangladesh',\n",
       "       'Barbados', 'Belarus', 'Belgium', 'Belize', 'Benin', 'Bhutan',\n",
       "       'Bolivia', 'Bosnia and Herzegovina', 'Botswana', 'Brazil',\n",
       "       'Brunei', 'Bulgaria', 'Burkina Faso', 'Burma', 'Burundi',\n",
       "       'Cabo Verde', 'Cambodia', 'Cameroon', 'Canada',\n",
       "       'Central African Republic', 'Chad', 'Chile', 'China', 'Colombia',\n",
       "       'Comoros', 'Congo (Brazzaville)', 'Congo (Kinshasa)', 'Costa Rica',\n",
       "       \"Cote d'Ivoire\", 'Croatia', 'Cuba', 'Cyprus', 'Czechia', 'Denmark',\n",
       "       'Djibouti', 'Dominica', 'Dominican Republic', 'Ecuador', 'Egypt',\n",
       "       'El Salvador', 'Equatorial Guinea', 'Eritrea', 'Estonia',\n",
       "       'Eswatini', 'Ethiopia', 'Fiji', 'Finland', 'France', 'Gabon',\n",
       "       'Gambia', 'Georgia', 'Germany', 'Ghana', 'Greece', 'Greenland',\n",
       "       'Grenada', 'Guatemala', 'Guinea', 'Guinea-Bissau', 'Guyana',\n",
       "       'Haiti', 'Holy See', 'Honduras', 'Hungary', 'Iceland', 'India',\n",
       "       'Indonesia', 'Iran', 'Iraq', 'Ireland', 'Israel', 'Italy',\n",
       "       'Jamaica', 'Japan', 'Jordan', 'Kazakhstan', 'Kenya', 'Kosovo',\n",
       "       'Kuwait', 'Kyrgyzstan', 'Laos', 'Latvia', 'Lebanon', 'Lesotho',\n",
       "       'Liberia', 'Libya', 'Liechtenstein', 'Lithuania', 'Luxembourg',\n",
       "       'Madagascar', 'Malawi', 'Malaysia', 'Maldives', 'Mali', 'Malta',\n",
       "       'Mauritania', 'Mauritius', 'Mexico', 'Moldova', 'Monaco',\n",
       "       'Mongolia', 'Montenegro', 'Morocco', 'Mozambique', 'Namibia',\n",
       "       'Nepal', 'Netherlands', 'New Zealand', 'Nicaragua', 'Niger',\n",
       "       'Nigeria', 'North Macedonia', 'Norway', 'Oman', 'Pakistan',\n",
       "       'Panama', 'Papua New Guinea', 'Paraguay', 'Peru', 'Philippines',\n",
       "       'Poland', 'Portugal', 'Qatar', 'Romania', 'Russia', 'Rwanda',\n",
       "       'Saint Kitts and Nevis', 'Saint Lucia',\n",
       "       'Saint Vincent and the Grenadines', 'San Marino',\n",
       "       'Sao Tome and Principe', 'Saudi Arabia', 'Senegal', 'Serbia',\n",
       "       'Seychelles', 'Sierra Leone', 'Singapore', 'Slovakia', 'Slovenia',\n",
       "       'Somalia', 'South Africa', 'South Korea', 'South Sudan', 'Spain',\n",
       "       'Sri Lanka', 'Sudan', 'Suriname', 'Sweden', 'Switzerland', 'Syria',\n",
       "       'Taiwan*', 'Tajikistan', 'Tanzania', 'Thailand', 'Timor-Leste',\n",
       "       'Togo', 'Trinidad and Tobago', 'Tunisia', 'Turkey', 'US', 'Uganda',\n",
       "       'Ukraine', 'United Arab Emirates', 'United Kingdom', 'Uruguay',\n",
       "       'Uzbekistan', 'Venezuela', 'Vietnam', 'West Bank and Gaza',\n",
       "       'Western Sahara', 'Yemen', 'Zambia', 'Zimbabwe'], dtype=object)"
      ]
     },
     "execution_count": 6,
     "metadata": {},
     "output_type": "execute_result"
    }
   ],
   "source": [
    "countries"
   ]
  },
  {
   "cell_type": "code",
   "execution_count": 7,
   "metadata": {},
   "outputs": [
    {
     "data": {
      "text/plain": [
       "187"
      ]
     },
     "execution_count": 7,
     "metadata": {},
     "output_type": "execute_result"
    }
   ],
   "source": [
    "countries.size"
   ]
  },
  {
   "cell_type": "markdown",
   "metadata": {},
   "source": [
    "For referense 193 countries are member states of the United Nations"
   ]
  },
  {
   "cell_type": "markdown",
   "metadata": {},
   "source": [
    "Correlation"
   ]
  },
  {
   "cell_type": "code",
   "execution_count": 8,
   "metadata": {},
   "outputs": [],
   "source": [
    "col1 = covid19df['Confirmed']\n",
    "col2 = covid19df['Deaths']\n",
    "col3 = covid19df['Recovered']"
   ]
  },
  {
   "cell_type": "markdown",
   "metadata": {},
   "source": [
    "Pearson's Correlation between Confimed cases and Deaths "
   ]
  },
  {
   "cell_type": "code",
   "execution_count": 9,
   "metadata": {},
   "outputs": [
    {
     "name": "stdout",
     "output_type": "stream",
     "text": [
      "Pearson's correlation is 0.9120159504553669 with a p-value of 0.0\n"
     ]
    }
   ],
   "source": [
    "corrPearson, pValPearson = stats.pearsonr(col1,col2)\n",
    "print (\"Pearson's correlation is\", corrPearson, \"with a p-value of\",pValPearson)"
   ]
  },
  {
   "cell_type": "markdown",
   "metadata": {},
   "source": [
    "Pearson's Correlation between Confimed cases and Recovered cases"
   ]
  },
  {
   "cell_type": "code",
   "execution_count": 10,
   "metadata": {},
   "outputs": [
    {
     "name": "stdout",
     "output_type": "stream",
     "text": [
      "Pearson's correlation is 0.8944176301821694 with a p-value of 0.0\n"
     ]
    }
   ],
   "source": [
    "corrPearson, pValPearson = stats.pearsonr(col1,col3)\n",
    "print (\"Pearson's correlation is\", corrPearson, \"with a p-value of\",pValPearson)"
   ]
  },
  {
   "cell_type": "markdown",
   "metadata": {},
   "source": [
    "Display of a small heatmap that shows correlation between three varibales, Confirmed cases, Deaths and Recovered cases"
   ]
  },
  {
   "cell_type": "code",
   "execution_count": 11,
   "metadata": {},
   "outputs": [],
   "source": [
    "correlation = covid19df[['Confirmed', 'Deaths', 'Recovered']]"
   ]
  },
  {
   "cell_type": "code",
   "execution_count": 12,
   "metadata": {},
   "outputs": [],
   "source": [
    "matrix = correlation.corr()"
   ]
  },
  {
   "cell_type": "code",
   "execution_count": 13,
   "metadata": {},
   "outputs": [
    {
     "data": {
      "image/png": "[encoded data removed]",
      "text/plain": [
       "<Figure size 432x288 with 2 Axes>"
      ]
     },
     "metadata": {
      "needs_background": "light"
     },
     "output_type": "display_data"
    }
   ],
   "source": [
    "sn.heatmap(matrix, annot= True)\n",
    "plt.show()"
   ]
  },
  {
   "cell_type": "markdown",
   "metadata": {},
   "source": [
    "Another heatmap to dispaly correlation between 6 variables, Confirmed cases, Deaths, Recovered, Active cases, New cases and New deaths"
   ]
  },
  {
   "cell_type": "code",
   "execution_count": 14,
   "metadata": {},
   "outputs": [],
   "source": [
    "correlation2 = covid19df[['Confirmed', 'Deaths', 'Recovered', 'Active', 'New cases', 'New deaths']]\n",
    "matrix2 = correlation2.corr()"
   ]
  },
  {
   "cell_type": "code",
   "execution_count": 15,
   "metadata": {},
   "outputs": [
    {
     "data": {
      "image/png": "[encoded data removed]",
      "text/plain": [
       "<Figure size 432x288 with 2 Axes>"
      ]
     },
     "metadata": {
      "needs_background": "light"
     },
     "output_type": "display_data"
    }
   ],
   "source": [
    "sn.heatmap(matrix2, annot= True)\n",
    "plt.show()"
   ]
  },
  {
   "cell_type": "markdown",
   "metadata": {},
   "source": [
    "For each country that was selected to be used for the purpose of the paper to answer the analytical questions smaller DataFrames were created to group the data relevant to each country. "
   ]
  },
  {
   "cell_type": "code",
   "execution_count": 16,
   "metadata": {},
   "outputs": [],
   "source": [
    "Italy = covid19df[covid19df['Country/Region'] == 'Italy']\n",
    "Japan = covid19df[covid19df['Country/Region'] == \"Japan\"]\n",
    "Finland = covid19df[covid19df['Country/Region'] == \"Finland\"]\n",
    "Greece = covid19df[covid19df['Country/Region'] == \"Greece\"]\n",
    "China = covid19df[covid19df['Country/Region'] == \"China\"]\n",
    "Australia = covid19df[covid19df['Country/Region'] == \"Australia\"]\n",
    "NewZeland = covid19df[covid19df['Country/Region'] == \"New Zealand\"]\n",
    "Switzerland = covid19df[covid19df['Country/Region'] == \"Switzerland\"]\n",
    "Sweden = covid19df[covid19df['Country/Region'] == \"Sweden\"]\n",
    "Montenegro = covid19df[covid19df['Country/Region'] == \"Montenegro\"]\n",
    "Russia = covid19df[covid19df['Country/Region'] == \"Russia\"]\n",
    "Hungary = covid19df[covid19df['Country/Region'] == \"Hungary\"]\n",
    "Netherladns = covid19df[covid19df['Country/Region'] == \"Netherlands\"]\n",
    "UnitedKingdom = covid19df[covid19df['Country/Region'] == \"United Kingdom\"]\n",
    "Iceland = covid19df[covid19df['Country/Region'] == 'Iceland']\n",
    "SouthKorea = covid19df[covid19df['Country/Region'] == 'South Korea']\n",
    "Turkey = covid19df[covid19df['Country/Region'] == 'Turkey']\n",
    "Georgia = covid19df[covid19df['Country/Region'] == 'Georgia']\n",
    "Canada = covid19df[covid19df['Country/Region'] == 'Canada']\n",
    "Brazil = covid19df[covid19df['Country/Region'] == 'Brazil']\n",
    "Mexico = covid19df[covid19df['Country/Region'] == 'Mexico']\n",
    "Israel = covid19df[covid19df['Country/Region'] == 'Israel']\n",
    "Lebanon = covid19df[covid19df['Country/Region'] == 'Lebanon']\n",
    "Bulgaria = covid19df[covid19df['Country/Region'] == 'Bulgaria']\n",
    "Estonia  = covid19df[covid19df['Country/Region'] == 'Estonia']\n",
    "Vietman = covid19df[covid19df['Country/Region'] == 'Vietnam']\n",
    "US =  covid19df[covid19df['Country/Region'] == 'US']\n",
    "Iran = covid19df[covid19df['Country/Region'] == 'Iran']\n",
    "Austria = covid19df[covid19df['Country/Region'] == 'Austria']"
   ]
  },
  {
   "cell_type": "markdown",
   "metadata": {},
   "source": [
    "After the creation of DataFrames for each country the data was broken down further to 7 DataFrames one for each month recorded in the dataset"
   ]
  },
  {
   "cell_type": "code",
   "execution_count": 17,
   "metadata": {},
   "outputs": [],
   "source": [
    "italyJan = Italy[(Italy['Date'] >= '2020-01-01') & (Italy['Date']<= '2020-01-31')]\n",
    "italyFeb = Italy[(Italy['Date'] >= '2020-02-01') & (Italy['Date']<= '2020-02-31')]\n",
    "italyMar = Italy[(Italy['Date'] >= '2020-03-01') & (Italy['Date']<= '2020-03-31')]\n",
    "italyApr = Italy[(Italy['Date'] >= '2020-04-01') & (Italy['Date']<= '2020-04-31')]\n",
    "italyMay = Italy[(Italy['Date'] >= '2020-05-01') & (Italy['Date']<= '2020-05-31')]\n",
    "italyJun = Italy[(Italy['Date'] >= '2020-06-01') & (Italy['Date']<= '2020-06-31')]\n",
    "italyJul = Italy[(Italy['Date'] >= '2020-07-01') & (Italy['Date']<= '2020-07-31')]\n",
    "\n",
    "japanJan = Japan[(Japan['Date'] >= '2020-01-01') & (Japan['Date']<= '2020-01-31')] \n",
    "japanFeb = Japan[(Japan['Date'] >= '2020-02-01') & (Japan['Date']<= '2020-02-31')] \n",
    "japanMar = Japan[(Japan['Date'] >= '2020-03-01') & (Japan['Date']<= '2020-03-31')] \n",
    "japanApr = Japan[(Japan['Date'] >= '2020-04-01') & (Japan['Date']<= '2020-04-31')] \n",
    "japanMay = Japan[(Japan['Date'] >= '2020-05-01') & (Japan['Date']<= '2020-05-31')] \n",
    "japanJun = Japan[(Japan['Date'] >= '2020-06-01') & (Japan['Date']<= '2020-06-31')] \n",
    "japanJul = Japan[(Japan['Date'] >= '2020-07-01') & (Japan['Date']<= '2020-07-31')] \n",
    "\n",
    "finlandJan = Finland[(Finland['Date'] >= '2020-01-01') & (Finland['Date']<= '2020-01-31')] \n",
    "finlandFeb = Finland[(Finland['Date'] >= '2020-02-01') & (Finland['Date']<= '2020-02-31')] \n",
    "finlandMar = Finland[(Finland['Date'] >= '2020-03-01') & (Finland['Date']<= '2020-03-31')] \n",
    "finlandApr = Finland[(Finland['Date'] >= '2020-04-01') & (Finland['Date']<= '2020-04-31')] \n",
    "finlandMay = Finland[(Finland['Date'] >= '2020-05-01') & (Finland['Date']<= '2020-05-31')] \n",
    "finlandJun = Finland[(Finland['Date'] >= '2020-06-01') & (Finland['Date']<= '2020-06-31')] \n",
    "finlandJul = Finland[(Finland['Date'] >= '2020-07-01') & (Finland['Date']<= '2020-07-31')] \n",
    "\n",
    "greeceJan = Greece[(Greece['Date'] >= '2020-01-01') & (Greece['Date']<= '2020-01-31')] \n",
    "greeceFeb = Greece[(Greece['Date'] >= '2020-02-01') & (Greece['Date']<= '2020-02-31')] \n",
    "greeceMar = Greece[(Greece['Date'] >= '2020-03-01') & (Greece['Date']<= '2020-03-31')] \n",
    "greeceApr = Greece[(Greece['Date'] >= '2020-04-01') & (Greece['Date']<= '2020-04-31')] \n",
    "greeceMay = Greece[(Greece['Date'] >= '2020-05-01') & (Greece['Date']<= '2020-05-31')] \n",
    "greeceJun = Greece[(Greece['Date'] >= '2020-06-01') & (Greece['Date']<= '2020-06-31')] \n",
    "greeceJul = Greece[(Greece['Date'] >= '2020-07-01') & (Greece['Date']<= '2020-07-31')] \n",
    "\n",
    "chinaJan = China[(China['Date'] >= '2020-01-01') & (China['Date']<= '2020-01-31')] \n",
    "chinaFeb = China[(China['Date'] >= '2020-02-01') & (China['Date']<= '2020-02-31')] \n",
    "chinaMar = China[(China['Date'] >= '2020-03-01') & (China['Date']<= '2020-03-31')] \n",
    "chinaApr = China[(China['Date'] >= '2020-04-01') & (China['Date']<= '2020-04-31')] \n",
    "chinaMay = China[(China['Date'] >= '2020-05-01') & (China['Date']<= '2020-05-31')] \n",
    "chinaJun = China[(China['Date'] >= '2020-06-01') & (China['Date']<= '2020-06-31')] \n",
    "chinaJul = China[(China['Date'] >= '2020-07-01') & (China['Date']<= '2020-07-31')] \n",
    "\n",
    "australiaJan = Australia[(Australia['Date'] >= '2020-01-01') & (Australia['Date']<= '2020-01-31')]\n",
    "australiaFeb = Australia[(Australia['Date'] >= '2020-02-01') & (Australia['Date']<= '2020-02-31')]\n",
    "australiaMar = Australia[(Australia['Date'] >= '2020-03-01') & (Australia['Date']<= '2020-03-31')]\n",
    "australiaApr = Australia[(Australia['Date'] >= '2020-04-01') & (Australia['Date']<= '2020-04-31')]\n",
    "australiaMay = Australia[(Australia['Date'] >= '2020-05-01') & (Australia['Date']<= '2020-05-31')]\n",
    "australiaJun = Australia[(Australia['Date'] >= '2020-06-01') & (Australia['Date']<= '2020-06-31')]\n",
    "australiaJul = Australia[(Australia['Date'] >= '2020-07-01') & (Australia['Date']<= '2020-07-31')]\n",
    "\n",
    "newZealndJan = NewZeland[(NewZeland['Date'] >= '2020-01-01') & (NewZeland['Date']<= '2020-01-31')]\n",
    "newZealndFeb = NewZeland[(NewZeland['Date'] >= '2020-02-01') & (NewZeland['Date']<= '2020-02-31')]\n",
    "newZealndMar = NewZeland[(NewZeland['Date'] >= '2020-03-01') & (NewZeland['Date']<= '2020-03-31')]\n",
    "newZealndApr = NewZeland[(NewZeland['Date'] >= '2020-04-01') & (NewZeland['Date']<= '2020-04-31')]\n",
    "newZealndMay = NewZeland[(NewZeland['Date'] >= '2020-05-01') & (NewZeland['Date']<= '2020-05-31')]\n",
    "newZealndJun = NewZeland[(NewZeland['Date'] >= '2020-06-01') & (NewZeland['Date']<= '2020-06-31')]\n",
    "newZealndJul = NewZeland[(NewZeland['Date'] >= '2020-07-01') & (NewZeland['Date']<= '2020-07-31')]\n",
    "\n",
    "switzerlandJan = Switzerland[(Switzerland['Date'] >= '2020-01-01') & (Switzerland['Date']<= '2020-01-31')]\n",
    "switzerlandJan = Switzerland[(Switzerland['Date'] >= '2020-02-01') & (Switzerland['Date']<= '2020-02-31')]\n",
    "switzerlandJan = Switzerland[(Switzerland['Date'] >= '2020-03-01') & (Switzerland['Date']<= '2020-03-31')]\n",
    "switzerlandJan = Switzerland[(Switzerland['Date'] >= '2020-04-01') & (Switzerland['Date']<= '2020-04-31')]\n",
    "switzerlandJan = Switzerland[(Switzerland['Date'] >= '2020-05-01') & (Switzerland['Date']<= '2020-05-31')]\n",
    "switzerlandJan = Switzerland[(Switzerland['Date'] >= '2020-06-01') & (Switzerland['Date']<= '2020-06-31')]\n",
    "switzerlandJan = Switzerland[(Switzerland['Date'] >= '2020-07-01') & (Switzerland['Date']<= '2020-07-31')]\n",
    "\n",
    "swedenJan = Sweden[(Sweden['Date'] >= '2020-01-01') & (Sweden['Date']<= '2020-01-31')]\n",
    "swedenFeb = Sweden[(Sweden['Date'] >= '2020-02-01') & (Sweden['Date']<= '2020-02-31')]\n",
    "swedenMar = Sweden[(Sweden['Date'] >= '2020-03-01') & (Sweden['Date']<= '2020-03-31')]\n",
    "swedenApr = Sweden[(Sweden['Date'] >= '2020-04-01') & (Sweden['Date']<= '2020-04-31')]\n",
    "swedenMay = Sweden[(Sweden['Date'] >= '2020-05-01') & (Sweden['Date']<= '2020-05-31')]\n",
    "swedenJun = Sweden[(Sweden['Date'] >= '2020-06-01') & (Sweden['Date']<= '2020-06-31')]\n",
    "swedenJul = Sweden[(Sweden['Date'] >= '2020-07-01') & (Sweden['Date']<= '2020-07-31')]\n",
    "\n",
    "russiaJan = Russia[(Russia['Date'] >= '2020-01-01') & (Russia['Date']<= '2020-01-31')]\n",
    "russiaFeb = Russia[(Russia['Date'] >= '2020-02-01') & (Russia['Date']<= '2020-02-31')]\n",
    "russiaMar = Russia[(Russia['Date'] >= '2020-03-01') & (Russia['Date']<= '2020-03-31')]\n",
    "russiaApr = Russia[(Russia['Date'] >= '2020-04-01') & (Russia['Date']<= '2020-04-31')]\n",
    "russiaMay = Russia[(Russia['Date'] >= '2020-05-01') & (Russia['Date']<= '2020-05-31')]\n",
    "russiaJun = Russia[(Russia['Date'] >= '2020-06-01') & (Russia['Date']<= '2020-06-31')]\n",
    "russiaJul = Russia[(Russia['Date'] >= '2020-07-01') & (Russia['Date']<= '2020-07-31')]\n",
    "\n",
    "hungaryJan = Hungary[(Hungary['Date'] >= '2020-01-01') & (Hungary['Date']<= '2020-01-31')]\n",
    "hungaryFeb = Hungary[(Hungary['Date'] >= '2020-02-01') & (Hungary['Date']<= '2020-02-31')]\n",
    "hungaryMar = Hungary[(Hungary['Date'] >= '2020-03-01') & (Hungary['Date']<= '2020-03-31')]\n",
    "hungaryApr = Hungary[(Hungary['Date'] >= '2020-04-01') & (Hungary['Date']<= '2020-04-31')]\n",
    "hungaryMay = Hungary[(Hungary['Date'] >= '2020-05-01') & (Hungary['Date']<= '2020-05-31')]\n",
    "hungaryJun = Hungary[(Hungary['Date'] >= '2020-06-01') & (Hungary['Date']<= '2020-06-31')]\n",
    "hungaryJul = Hungary[(Hungary['Date'] >= '2020-07-01') & (Hungary['Date']<= '2020-07-31')]\n",
    "\n",
    "netherlandsJan = Netherladns[(Netherladns['Date'] >= '2020-01-01') & (Netherladns['Date']<= '2020-01-31')]\n",
    "netherlandsFeb = Netherladns[(Netherladns['Date'] >= '2020-02-01') & (Netherladns['Date']<= '2020-02-31')]\n",
    "netherlandsMar = Netherladns[(Netherladns['Date'] >= '2020-03-01') & (Netherladns['Date']<= '2020-03-31')]\n",
    "netherlandsApr = Netherladns[(Netherladns['Date'] >= '2020-04-01') & (Netherladns['Date']<= '2020-04-31')]\n",
    "netherlandsMay = Netherladns[(Netherladns['Date'] >= '2020-05-01') & (Netherladns['Date']<= '2020-05-31')]\n",
    "netherlandsJun = Netherladns[(Netherladns['Date'] >= '2020-06-01') & (Netherladns['Date']<= '2020-06-31')]\n",
    "netherlandsJul = Netherladns[(Netherladns['Date'] >= '2020-07-01') & (Netherladns['Date']<= '2020-07-31')]\n",
    "\n",
    "UKJan = UnitedKingdom[(UnitedKingdom['Date'] >= '2020-01-01') & (UnitedKingdom['Date']<= '2020-01-31')]\n",
    "UKFeb = UnitedKingdom[(UnitedKingdom['Date'] >= '2020-02-01') & (UnitedKingdom['Date']<= '2020-02-31')]\n",
    "UKMar = UnitedKingdom[(UnitedKingdom['Date'] >= '2020-03-01') & (UnitedKingdom['Date']<= '2020-03-31')]\n",
    "UKApr = UnitedKingdom[(UnitedKingdom['Date'] >= '2020-04-01') & (UnitedKingdom['Date']<= '2020-04-31')]\n",
    "UKMay = UnitedKingdom[(UnitedKingdom['Date'] >= '2020-05-01') & (UnitedKingdom['Date']<= '2020-05-31')]\n",
    "UKJun = UnitedKingdom[(UnitedKingdom['Date'] >= '2020-06-01') & (UnitedKingdom['Date']<= '2020-06-31')]\n",
    "UKJul = UnitedKingdom[(UnitedKingdom['Date'] >= '2020-07-01') & (UnitedKingdom['Date']<= '2020-07-31')]\n",
    "\n",
    "turkeyJan = Turkey[(Turkey['Date'] >= '2020-01-01') & (Turkey['Date']<= '2020-01-31')]\n",
    "turkeyFeb = Turkey[(Turkey['Date'] >= '2020-02-01') & (Turkey['Date']<= '2020-02-31')]\n",
    "turkeyMar = Turkey[(Turkey['Date'] >= '2020-03-01') & (Turkey['Date']<= '2020-03-31')]\n",
    "turkeyApr = Turkey[(Turkey['Date'] >= '2020-04-01') & (Turkey['Date']<= '2020-04-31')]\n",
    "turkeyMay = Turkey[(Turkey['Date'] >= '2020-05-01') & (Turkey['Date']<= '2020-05-31')]\n",
    "turkeyJun = Turkey[(Turkey['Date'] >= '2020-06-01') & (Turkey['Date']<= '2020-06-31')]\n",
    "turkeyJul = Turkey[(Turkey['Date'] >= '2020-07-01') & (Turkey['Date']<= '2020-07-31')]\n",
    "\n",
    "estoniaJan = Estonia[(Estonia['Date'] >= '2020-01-01') & (Estonia['Date']<= '2020-01-31')]\n",
    "estoniaFeb = Estonia[(Estonia['Date'] >= '2020-02-01') & (Estonia['Date']<= '2020-02-31')]\n",
    "estoniaMar = Estonia[(Estonia['Date'] >= '2020-03-01') & (Estonia['Date']<= '2020-03-31')]\n",
    "estoniaApr = Estonia[(Estonia['Date'] >= '2020-04-01') & (Estonia['Date']<= '2020-04-31')]\n",
    "estoniaMay = Estonia[(Estonia['Date'] >= '2020-05-01') & (Estonia['Date']<= '2020-05-31')]\n",
    "estoniaJun = Estonia[(Estonia['Date'] >= '2020-06-01') & (Estonia['Date']<= '2020-06-31')]\n",
    "estoniaJul = Estonia[(Estonia['Date'] >= '2020-07-01') & (Estonia['Date']<= '2020-07-31')]\n",
    "\n",
    "icelandJan = Iceland[(Iceland['Date'] >= '2020-01-01') & (Iceland['Date']<= '2020-01-31')]\n",
    "icelandFeb = Iceland[(Iceland['Date'] >= '2020-02-01') & (Iceland['Date']<= '2020-02-31')]\n",
    "icelandMar = Iceland[(Iceland['Date'] >= '2020-03-01') & (Iceland['Date']<= '2020-03-31')]\n",
    "icelandApr = Iceland[(Iceland['Date'] >= '2020-04-01') & (Iceland['Date']<= '2020-04-31')]\n",
    "icelandMay = Iceland[(Iceland['Date'] >= '2020-05-01') & (Iceland['Date']<= '2020-05-31')]\n",
    "icelandJun = Iceland[(Iceland['Date'] >= '2020-06-01') & (Iceland['Date']<= '2020-06-31')]\n",
    "icelandJul = Iceland[(Iceland['Date'] >= '2020-07-01') & (Iceland['Date']<= '2020-07-31')]\n",
    "\n",
    "iranJan = Iran[(Iran['Date'] >= '2020-01-01') & (Iran['Date']<= '2020-01-31')]\n",
    "iranFeb = Iran[(Iran['Date'] >= '2020-02-01') & (Iran['Date']<= '2020-02-31')]\n",
    "iranMar = Iran[(Iran['Date'] >= '2020-03-01') & (Iran['Date']<= '2020-03-31')]\n",
    "iranApr = Iran[(Iran['Date'] >= '2020-04-01') & (Iran['Date']<= '2020-04-31')]\n",
    "iranMay = Iran[(Iran['Date'] >= '2020-05-01') & (Iran['Date']<= '2020-05-31')]\n",
    "iranJun = Iran[(Iran['Date'] >= '2020-06-01') & (Iran['Date']<= '2020-06-31')]\n",
    "iranjul = Iran[(Iran['Date'] >= '2020-07-01') & (Iran['Date']<= '2020-07-31')]\n",
    "\n",
    "georgiaJan = Georgia[(Georgia['Date'] >= '2020-01-01') & (Georgia['Date']<= '2020-01-31')]\n",
    "georgiaFeb = Georgia[(Georgia['Date'] >= '2020-02-01') & (Georgia['Date']<= '2020-02-31')]\n",
    "georgiaMar = Georgia[(Georgia['Date'] >= '2020-03-01') & (Georgia['Date']<= '2020-03-31')]\n",
    "georgiaApr = Georgia[(Georgia['Date'] >= '2020-04-01') & (Georgia['Date']<= '2020-04-31')]\n",
    "georgiaMay = Georgia[(Georgia['Date'] >= '2020-05-01') & (Georgia['Date']<= '2020-05-31')]\n",
    "georgiaJun = Georgia[(Georgia['Date'] >= '2020-06-01') & (Georgia['Date']<= '2020-06-31')]\n",
    "georgiaJul = Georgia[(Georgia['Date'] >= '2020-07-01') & (Georgia['Date']<= '2020-07-31')]\n",
    "\n",
    "southKoreaJan = SouthKorea[(SouthKorea['Date'] >= '2020-01-01') & (SouthKorea['Date']<= '2020-01-31')]\n",
    "southKoreaFeb = SouthKorea[(SouthKorea['Date'] >= '2020-02-01') & (SouthKorea['Date']<= '2020-02-31')]\n",
    "southKoreaMar = SouthKorea[(SouthKorea['Date'] >= '2020-03-01') & (SouthKorea['Date']<= '2020-03-31')]\n",
    "southKoreaApr = SouthKorea[(SouthKorea['Date'] >= '2020-04-01') & (SouthKorea['Date']<= '2020-04-31')]\n",
    "southKoreaMay = SouthKorea[(SouthKorea['Date'] >= '2020-05-01') & (SouthKorea['Date']<= '2020-05-31')]\n",
    "southKoreaJun = SouthKorea[(SouthKorea['Date'] >= '2020-06-01') & (SouthKorea['Date']<= '2020-06-31')]\n",
    "southKoreaJul = SouthKorea[(SouthKorea['Date'] >= '2020-07-01') & (SouthKorea['Date']<= '2020-07-31')]\n",
    "\n",
    "icelandJan = Iceland[(Iceland['Date'] >= '2020-01-01') & (Iceland['Date']<= '2020-01-31')]\n",
    "icelandFeb = Iceland[(Iceland['Date'] >= '2020-02-01') & (Iceland['Date']<= '2020-02-31')]\n",
    "icelandMar = Iceland[(Iceland['Date'] >= '2020-03-01') & (Iceland['Date']<= '2020-03-31')]\n",
    "icelandApr = Iceland[(Iceland['Date'] >= '2020-04-01') & (Iceland['Date']<= '2020-04-31')]\n",
    "icelandMay = Iceland[(Iceland['Date'] >= '2020-05-01') & (Iceland['Date']<= '2020-05-31')]\n",
    "icelandJun = Iceland[(Iceland['Date'] >= '2020-06-01') & (Iceland['Date']<= '2020-06-31')]\n",
    "icelandJul = Iceland[(Iceland['Date'] >= '2020-07-01') & (Iceland['Date']<= '2020-07-31')]\n",
    "\n",
    "canadaJan = Canada[(Canada['Date'] >= '2020-01-01') & (Canada['Date']<= '2020-01-31')]\n",
    "canadaFeb = Canada[(Canada['Date'] >= '2020-02-01') & (Canada['Date']<= '2020-02-31')]\n",
    "canadaMar = Canada[(Canada['Date'] >= '2020-03-01') & (Canada['Date']<= '2020-03-31')]\n",
    "canadaApr = Canada[(Canada['Date'] >= '2020-04-01') & (Canada['Date']<= '2020-04-31')]\n",
    "canadaMay = Canada[(Canada['Date'] >= '2020-05-01') & (Canada['Date']<= '2020-05-31')]\n",
    "canadaJun = Canada[(Canada['Date'] >= '2020-06-01') & (Canada['Date']<= '2020-06-31')]\n",
    "canadaJul = Canada[(Canada['Date'] >= '2020-07-01') & (Canada['Date']<= '2020-07-31')]\n",
    "\n",
    "mexicoJan = Mexico[(Mexico['Date'] >= '2020-01-01') & (Mexico['Date']<= '2020-01-31')]\n",
    "mexicoFeb = Mexico[(Mexico['Date'] >= '2020-02-01') & (Mexico['Date']<= '2020-02-31')]\n",
    "mexicoMar = Mexico[(Mexico['Date'] >= '2020-03-01') & (Mexico['Date']<= '2020-03-31')]\n",
    "mexicoApr = Mexico[(Mexico['Date'] >= '2020-04-01') & (Mexico['Date']<= '2020-04-31')]\n",
    "mexicoMay = Mexico[(Mexico['Date'] >= '2020-05-01') & (Mexico['Date']<= '2020-05-31')]\n",
    "mexicoJun = Mexico[(Mexico['Date'] >= '2020-06-01') & (Mexico['Date']<= '2020-06-31')]\n",
    "mexicoJul = Mexico[(Mexico['Date'] >= '2020-07-01') & (Mexico['Date']<= '2020-07-31')]\n",
    "\n",
    "iranJan = Iran[(Iran['Date'] >= '2020-01-01') & (Iran['Date']<= '2020-01-31')]\n",
    "iranFeb = Iran[(Iran['Date'] >= '2020-02-01') & (Iran['Date']<= '2020-02-31')]\n",
    "iranMar = Iran[(Iran['Date'] >= '2020-03-01') & (Iran['Date']<= '2020-03-31')]\n",
    "iranApr = Iran[(Iran['Date'] >= '2020-04-01') & (Iran['Date']<= '2020-04-31')]\n",
    "iranMay = Iran[(Iran['Date'] >= '2020-05-01') & (Iran['Date']<= '2020-05-31')]\n",
    "iranJun = Iran[(Iran['Date'] >= '2020-06-01') & (Iran['Date']<= '2020-06-31')]\n",
    "iranJul = Iran[(Iran['Date'] >= '2020-07-01') & (Iran['Date']<= '2020-07-31')]\n",
    "\n",
    "montenegroJan = Montenegro[(Montenegro['Date'] >= '2020-01-01') & (Montenegro['Date']<= '2020-01-31')]\n",
    "montenegroFeb = Montenegro[(Montenegro['Date'] >= '2020-02-01') & (Montenegro['Date']<= '2020-02-31')]\n",
    "montenegroMar = Montenegro[(Montenegro['Date'] >= '2020-03-01') & (Montenegro['Date']<= '2020-03-31')]\n",
    "montenegroApr = Montenegro[(Montenegro['Date'] >= '2020-04-01') & (Montenegro['Date']<= '2020-04-31')]\n",
    "montenegroMay = Montenegro[(Montenegro['Date'] >= '2020-05-01') & (Montenegro['Date']<= '2020-05-31')]\n",
    "montenegroJun = Montenegro[(Montenegro['Date'] >= '2020-06-01') & (Montenegro['Date']<= '2020-06-31')]\n",
    "montenegroJul = Montenegro[(Montenegro['Date'] >= '2020-07-01') & (Montenegro['Date']<= '2020-07-31')]\n",
    "\n",
    "israelJan = Israel[(Israel['Date'] >= '2020-01-01') & (Israel['Date']<= '2020-01-31')]\n",
    "israelFeb = Israel[(Israel['Date'] >= '2020-02-01') & (Israel['Date']<= '2020-02-31')]\n",
    "israelMar = Israel[(Israel['Date'] >= '2020-03-01') & (Israel['Date']<= '2020-03-31')]\n",
    "israelApr = Israel[(Israel['Date'] >= '2020-04-01') & (Israel['Date']<= '2020-04-31')]\n",
    "israelMay = Israel[(Israel['Date'] >= '2020-05-01') & (Israel['Date']<= '2020-05-31')]\n",
    "israelJun = Israel[(Israel['Date'] >= '2020-06-01') & (Israel['Date']<= '2020-06-31')]\n",
    "israelJul = Israel[(Israel['Date'] >= '2020-07-01') & (Israel['Date']<= '2020-07-31')]\n",
    "\n",
    "lebanonJan = Lebanon[(Lebanon['Date'] >= '2020-01-01') & (Lebanon['Date']<= '2020-01-31')]\n",
    "lebanonFeb = Lebanon[(Lebanon['Date'] >= '2020-02-01') & (Lebanon['Date']<= '2020-02-31')]\n",
    "lebanonMar = Lebanon[(Lebanon['Date'] >= '2020-03-01') & (Lebanon['Date']<= '2020-03-31')]\n",
    "lebanonApr = Lebanon[(Lebanon['Date'] >= '2020-04-01') & (Lebanon['Date']<= '2020-04-31')]\n",
    "lebanonMay = Lebanon[(Lebanon['Date'] >= '2020-05-01') & (Lebanon['Date']<= '2020-05-31')]\n",
    "lebanonJun = Lebanon[(Lebanon['Date'] >= '2020-06-01') & (Lebanon['Date']<= '2020-06-31')]\n",
    "lebanonJul = Lebanon[(Lebanon['Date'] >= '2020-07-01') & (Lebanon['Date']<= '2020-07-31')]\n",
    "\n",
    "austriaJan = Austria[(Austria['Date'] >= '2020-01-01') & (Austria['Date']<= '2020-01-31')]\n",
    "austriaFeb = Austria[(Austria['Date'] >= '2020-02-01') & (Austria['Date']<= '2020-02-31')]\n",
    "austriaMar = Austria[(Austria['Date'] >= '2020-03-01') & (Austria['Date']<= '2020-03-31')]\n",
    "austriaApr = Austria[(Austria['Date'] >= '2020-04-01') & (Austria['Date']<= '2020-04-31')]\n",
    "austriaMay = Austria[(Austria['Date'] >= '2020-05-01') & (Austria['Date']<= '2020-05-31')]\n",
    "austriaJun = Austria[(Austria['Date'] >= '2020-06-01') & (Austria['Date']<= '2020-06-31')]\n",
    "austriaJul = Austria[(Austria['Date'] >= '2020-07-01') & (Austria['Date']<= '2020-07-31')]"
   ]
  },
  {
   "cell_type": "markdown",
   "metadata": {},
   "source": [
    "In the next cells perctanges of each month were calculated, which will later be used to create boxpots and line plots"
   ]
  },
  {
   "cell_type": "code",
   "execution_count": 18,
   "metadata": {},
   "outputs": [],
   "source": [
    "southKoreaJanPer = southKoreaJan['Deaths'].max()/southKoreaJan['Confirmed'].max()*100\n",
    "southKoreaFebPer = southKoreaFeb['Deaths'].max()/southKoreaFeb['Confirmed'].max()*100\n",
    "southKoreaMarPer = southKoreaMar['Deaths'].max()/southKoreaMar['Confirmed'].max()*100\n",
    "southKoreaAprPer = southKoreaApr['Deaths'].max()/southKoreaApr['Confirmed'].max()*100\n",
    "southKoreaMayPer = southKoreaMay['Deaths'].max()/southKoreaMay['Confirmed'].max()*100\n",
    "southKoreaJunPer = southKoreaJun['Deaths'].max()/southKoreaJun['Confirmed'].max()*100\n",
    "southKoreaJulPer = southKoreaJul['Deaths'].max()/southKoreaJul['Confirmed'].max()*100\n",
    "\n",
    "icelandJanPer = 0.0\n",
    "icelandFebPer = icelandFeb['Deaths'].max()/icelandFeb['Confirmed'].max()*100\n",
    "icelandMarPer = icelandMar['Deaths'].max()/icelandMar['Confirmed'].max()*100\n",
    "icelandAprPer = icelandApr['Deaths'].max()/icelandApr['Confirmed'].max()*100\n",
    "icelandMayPer = icelandMay['Deaths'].max()/icelandMay['Confirmed'].max()*100\n",
    "icelandJunPer = icelandJun['Deaths'].max()/icelandJun['Confirmed'].max()*100\n",
    "icelandJulPer = icelandJul['Deaths'].max()/icelandJul['Confirmed'].max()*100\n",
    "\n",
    "georgiaJanPer = 0.0\n",
    "georgiaFebPer = georgiaFeb['Deaths'].max()/georgiaFeb['Confirmed'].max()*100\n",
    "georgiaMarPer = georgiaMar['Deaths'].max()/georgiaMar['Confirmed'].max()*100\n",
    "georgiaAprPer = georgiaApr['Deaths'].max()/georgiaApr['Confirmed'].max()*100\n",
    "georgiaMayPer = georgiaMay['Deaths'].max()/georgiaMay['Confirmed'].max()*100\n",
    "georgiaJunPer = georgiaJun['Deaths'].max()/georgiaJun['Confirmed'].max()*100\n",
    "georgiaJulPer = georgiaJul['Deaths'].max()/georgiaJul['Confirmed'].max()*100\n",
    "\n",
    "italyJanPer = italyJan['Deaths'].max()/italyJan['Confirmed'].max()* 100\n",
    "italyFebPer = italyFeb['Deaths'].max()/italyFeb['Confirmed'].max()* 100\n",
    "italyMarPer = italyMar['Deaths'].max()/italyMar['Confirmed'].max()* 100\n",
    "italyAprPer = italyApr['Deaths'].max()/italyApr['Confirmed'].max()* 100\n",
    "italyMayPer = italyMay['Deaths'].max()/italyMay['Confirmed'].max()* 100\n",
    "italyJunPer = italyJun['Deaths'].max()/italyJun['Confirmed'].max()* 100\n",
    "italyJulPer = italyJul['Deaths'].max()/italyJul['Confirmed'].max()* 100\n",
    "\n",
    "japanJanPer = japanJan['Deaths'].max()/japanJan['Confirmed'].max()* 100\n",
    "japanFebPer = japanFeb['Deaths'].max()/japanFeb['Confirmed'].max()* 100\n",
    "japanMarPer = japanMar['Deaths'].max()/japanMar['Confirmed'].max()* 100\n",
    "japanAprPer = japanApr['Deaths'].max()/japanApr['Confirmed'].max()* 100\n",
    "japanMayPer = japanMay['Deaths'].max()/japanMay['Confirmed'].max()* 100\n",
    "japanJunPer = japanJun['Deaths'].max()/japanJun['Confirmed'].max()* 100\n",
    "japanJulPer = japanJul['Deaths'].max()/japanJul['Confirmed'].max()* 100\n",
    "\n",
    "finlandJanPer = finlandJan['Deaths'].max()/finlandJan['Confirmed'].max()* 100\n",
    "finlandFebPer = finlandFeb['Deaths'].max()/finlandFeb['Confirmed'].max()* 100\n",
    "finlandMarPer = finlandMar['Deaths'].max()/finlandMar['Confirmed'].max()* 100\n",
    "finlandAprPer = finlandApr['Deaths'].max()/finlandApr['Confirmed'].max()* 100\n",
    "finlandMayPer = finlandMay['Deaths'].max()/finlandMay['Confirmed'].max()* 100\n",
    "finlandJunPer = finlandJun['Deaths'].max()/finlandJun['Confirmed'].max()* 100\n",
    "finlandJulPer = finlandJul['Deaths'].max()/finlandJul['Confirmed'].max()* 100\n",
    "\n",
    "estoniaJanPer = 0.0\n",
    "estoniaFebPer = estoniaFeb['Deaths'].max()/estoniaFeb['Confirmed'].max()*100\n",
    "estoniaMarPer = estoniaMar['Deaths'].max()/estoniaMar['Confirmed'].max()*100\n",
    "estoniaAprPer = estoniaApr['Deaths'].max()/estoniaApr['Confirmed'].max()*100\n",
    "estoniaMayPer = estoniaMay['Deaths'].max()/estoniaMay['Confirmed'].max()*100\n",
    "estoniaJunPer = estoniaJun['Deaths'].max()/estoniaJun['Confirmed'].max()*100\n",
    "estoniaJulPer = estoniaJul['Deaths'].max()/estoniaJul['Confirmed'].max()*100\n",
    "\n",
    "chinaJanPer = chinaJan['Deaths'].max()/chinaJan['Confirmed'].max()*100\n",
    "chinaFebPer = chinaFeb['Deaths'].max()/chinaFeb['Confirmed'].max()*100\n",
    "chinaMarPer = chinaMar['Deaths'].max()/chinaMar['Confirmed'].max()*100\n",
    "chinaAprPer = chinaApr['Deaths'].max()/chinaApr['Confirmed'].max()*100\n",
    "chinaMayPer = chinaMay['Deaths'].max()/chinaMay['Confirmed'].max()*100\n",
    "chinaJunPer = chinaJun['Deaths'].max()/chinaJun['Confirmed'].max()*100\n",
    "chinaJulPer = chinaJul['Deaths'].max()/chinaJul['Confirmed'].max()*100\n",
    "\n",
    "netherlandsJanPer = 0.0\n",
    "netherlandsFebPer = netherlandsFeb['Deaths'].max()/ netherlandsFeb['Confirmed'].max()*100\n",
    "netherlandsMarPer = netherlandsMar['Deaths'].max()/ netherlandsMar['Confirmed'].max()*100\n",
    "netherlandsAprPer = netherlandsApr['Deaths'].max()/ netherlandsApr['Confirmed'].max()*100\n",
    "netherlandsMayPer = netherlandsMay['Deaths'].max()/ netherlandsMay['Confirmed'].max()*100\n",
    "netherlandsJunPer = netherlandsJun['Deaths'].max()/ netherlandsJun['Confirmed'].max()*100\n",
    "netherlandsJulPer = netherlandsJul['Deaths'].max()/ netherlandsJul['Confirmed'].max()*100\n",
    "\n",
    "swedenJanPer = swedenJan['Deaths'].max()/swedenJan['Confirmed'].max()*100\n",
    "swedenFebPer = swedenFeb['Deaths'].max()/swedenFeb['Confirmed'].max()*100\n",
    "swedenMarPer = swedenMar['Deaths'].max()/swedenMar['Confirmed'].max()*100\n",
    "swedenAprPer = swedenApr['Deaths'].max()/swedenApr['Confirmed'].max()*100\n",
    "swedenMayPer = swedenMay['Deaths'].max()/swedenMay['Confirmed'].max()*100\n",
    "swedenJunPer = swedenJun['Deaths'].max()/swedenJun['Confirmed'].max()*100\n",
    "swedenJulPer = swedenJul['Deaths'].max()/swedenJul['Confirmed'].max()*100\n",
    "\n",
    "UKJanPer = UKJan['Deaths'].max()/UKJan['Confirmed'].max()*100\n",
    "UKFebPer = UKFeb['Deaths'].max()/UKFeb['Confirmed'].max()*100\n",
    "UKMarPer = UKMar['Deaths'].max()/UKMar['Confirmed'].max()*100\n",
    "UKAprPer = UKApr['Deaths'].max()/UKApr['Confirmed'].max()*100\n",
    "UKMayPer = UKMay['Deaths'].max()/UKMay['Confirmed'].max()*100\n",
    "UKJunPer = UKJun['Deaths'].max()/UKJun['Confirmed'].max()*100\n",
    "UKJulPer = UKJul['Deaths'].max()/UKJul['Confirmed'].max()*100\n",
    "\n",
    "greeceJanPer = 0.0\n",
    "greeceFebPer = greeceFeb['Deaths'].max()/greeceFeb['Confirmed'].max()*100 \n",
    "greeceMarPer = greeceMar['Deaths'].max()/greeceMar['Confirmed'].max()*100 \n",
    "greeceAprPer = greeceApr['Deaths'].max()/greeceApr['Confirmed'].max()*100 \n",
    "greeceMayPer = greeceMay['Deaths'].max()/greeceMay['Confirmed'].max()*100 \n",
    "greeceJunPer = greeceJun['Deaths'].max()/greeceJun['Confirmed'].max()*100 \n",
    "greeceJulPer = greeceJul['Deaths'].max()/greeceJul['Confirmed'].max()*100\n",
    "\n",
    "russiaJanPer = russiaJan['Deaths'].max()/russiaJan['Confirmed'].max()*100 \n",
    "russiaFebPer = russiaFeb['Deaths'].max()/russiaFeb['Confirmed'].max()*100 \n",
    "russiaMarPer = russiaMar['Deaths'].max()/russiaMar['Confirmed'].max()*100 \n",
    "russiaAprPer = russiaApr['Deaths'].max()/russiaApr['Confirmed'].max()*100 \n",
    "russiaMayPer = russiaMay['Deaths'].max()/russiaMay['Confirmed'].max()*100 \n",
    "russiaJunPer = russiaJun['Deaths'].max()/russiaJun['Confirmed'].max()*100 \n",
    "russiaJulPer = russiaJul['Deaths'].max()/russiaJul['Confirmed'].max()*100 \n",
    "\n",
    "montenegroJanPer = 0.0\n",
    "montenegroFebPer = 0.0\n",
    "montenegroMarPer = montenegroMar['Deaths'].max()/montenegroMar['Confirmed'].max()*100 \n",
    "montenegroAprPer = montenegroApr['Deaths'].max()/montenegroApr['Confirmed'].max()*100 \n",
    "montenegroMayPer = montenegroMay['Deaths'].max()/montenegroMay['Confirmed'].max()*100 \n",
    "montenegroJunPer = montenegroJun['Deaths'].max()/montenegroJun['Confirmed'].max()*100 \n",
    "montenegroJulPer = montenegroJul['Deaths'].max()/montenegroJul['Confirmed'].max()*100 \n",
    "\n",
    "canadaJanPer = canadaJan['Deaths'].max()/canadaJan['Confirmed'].max()*100 \n",
    "canadaFebPer = canadaFeb['Deaths'].max()/canadaFeb['Confirmed'].max()*100 \n",
    "canadaMarPer = canadaMar['Deaths'].max()/canadaMar['Confirmed'].max()*100 \n",
    "canadaAprPer = canadaApr['Deaths'].max()/canadaApr['Confirmed'].max()*100 \n",
    "canadaMayPer = canadaMay['Deaths'].max()/canadaMay['Confirmed'].max()*100 \n",
    "canadaJunPer = canadaJun['Deaths'].max()/canadaJun['Confirmed'].max()*100 \n",
    "canadaJulPer = canadaJul['Deaths'].max()/canadaJul['Confirmed'].max()*100 \n",
    "\n",
    "mexicoJanPer = 0.0\n",
    "mexicoFebPer = mexicoFeb['Deaths'].max()/mexicoFeb['Confirmed'].max()*100\n",
    "mexicoMarPer = mexicoMar['Deaths'].max()/mexicoMar['Confirmed'].max()*100\n",
    "mexicoAprPer = mexicoApr['Deaths'].max()/mexicoApr['Confirmed'].max()*100\n",
    "mexicoMayPer = mexicoMay['Deaths'].max()/mexicoMay['Confirmed'].max()*100\n",
    "mexicoJunPer = mexicoJun['Deaths'].max()/mexicoJun['Confirmed'].max()*100\n",
    "mexicoJulPer = mexicoJul['Deaths'].max()/mexicoJul['Confirmed'].max()*100\n",
    "\n",
    "iranJanPer = 0.0\n",
    "iranFebPer = iranFeb['Deaths'].max()/iranFeb['Confirmed'].max()*100\n",
    "iranMarPer = iranMar['Deaths'].max()/iranMar['Confirmed'].max()*100\n",
    "iranAprPer = iranApr['Deaths'].max()/iranApr['Confirmed'].max()*100\n",
    "iranMayPer = iranMay['Deaths'].max()/iranMay['Confirmed'].max()*100\n",
    "iranJunPer = iranJun['Deaths'].max()/iranJun['Confirmed'].max()*100\n",
    "iranJulPer = iranJul['Deaths'].max()/iranJul['Confirmed'].max()*100\n",
    "\n",
    "australiaJanPer = australiaJan['Deaths'].max()/australiaJan['Confirmed'].max()*100\n",
    "australiaFebPer = australiaFeb['Deaths'].max()/australiaFeb['Confirmed'].max()*100\n",
    "australiaMarPer = australiaMar['Deaths'].max()/australiaMar['Confirmed'].max()*100\n",
    "australiaAprPer = australiaApr['Deaths'].max()/australiaApr['Confirmed'].max()*100\n",
    "australiaMayPer = australiaMay['Deaths'].max()/australiaMay['Confirmed'].max()*100\n",
    "australiaJunPer = australiaJun['Deaths'].max()/australiaJun['Confirmed'].max()*100\n",
    "australiaJulPer = australiaJul['Deaths'].max()/australiaJul['Confirmed'].max()*100\n",
    "\n",
    "newZealndJanPer = 0.0\n",
    "newZealndFebPer = newZealndFeb['Deaths'].max()/newZealndFeb['Confirmed'].max()*100\n",
    "newZealndMarPer = newZealndMar['Deaths'].max()/newZealndMar['Confirmed'].max()*100\n",
    "newZealndAprPer = newZealndApr['Deaths'].max()/newZealndApr['Confirmed'].max()*100\n",
    "newZealndMayPer = newZealndMay['Deaths'].max()/newZealndMay['Confirmed'].max()*100\n",
    "newZealndJunPer = newZealndJun['Deaths'].max()/newZealndJun['Confirmed'].max()*100\n",
    "newZealndJulPer = newZealndJul['Deaths'].max()/newZealndJul['Confirmed'].max()*100\n",
    "\n",
    "hungaryJanPer = 0.0\n",
    "hungaryFebPer = 0.0\n",
    "hungaryMarPer = hungaryMar['Deaths'].max()/hungaryMar['Confirmed'].max()*100\n",
    "hungaryAprPer = hungaryApr['Deaths'].max()/hungaryApr['Confirmed'].max()*100\n",
    "hungaryMayPer = hungaryMay['Deaths'].max()/hungaryMay['Confirmed'].max()*100\n",
    "hungaryJunPer = hungaryJun['Deaths'].max()/hungaryJun['Confirmed'].max()*100\n",
    "hungaryJulPer = hungaryJul['Deaths'].max()/hungaryJul['Confirmed'].max()*100\n",
    "\n",
    "israelJanPer = 0.0\n",
    "israelFebPer = israelFeb['Deaths'].max()/israelFeb['Confirmed'].max()*100\n",
    "israelMarPer = israelMar['Deaths'].max()/israelMar['Confirmed'].max()*100\n",
    "israelAprPer = israelApr['Deaths'].max()/israelApr['Confirmed'].max()*100\n",
    "israelMayPer = israelMay['Deaths'].max()/israelMay['Confirmed'].max()*100\n",
    "israelJunPer = israelJun['Deaths'].max()/israelJun['Confirmed'].max()*100\n",
    "israelJulPer = israelJul['Deaths'].max()/israelJul['Confirmed'].max()*100\n",
    "\n",
    "lebanonJanPer = 0.0\n",
    "lebanonFebPer = lebanonFeb['Deaths'].max()/lebanonFeb['Confirmed'].max()*100\n",
    "lebanonMarPer = lebanonMar['Deaths'].max()/lebanonMar['Confirmed'].max()*100\n",
    "lebanonAprPer = lebanonApr['Deaths'].max()/lebanonApr['Confirmed'].max()*100\n",
    "lebanonMayPer = lebanonMay['Deaths'].max()/lebanonMay['Confirmed'].max()*100\n",
    "lebanonJunPer = lebanonJun['Deaths'].max()/lebanonJun['Confirmed'].max()*100\n",
    "lebanonJulPer = lebanonJul['Deaths'].max()/lebanonJul['Confirmed'].max()*100\n",
    "\n",
    "austriaJanPer = 0.0\n",
    "austriaFebPer = austriaFeb['Deaths'].max()/austriaFeb['Confirmed'].max()*100\n",
    "austriaMarPer = austriaMar['Deaths'].max()/austriaMar['Confirmed'].max()*100\n",
    "austriaAprPer = austriaApr['Deaths'].max()/austriaApr['Confirmed'].max()*100\n",
    "austriaMayPer = austriaMay['Deaths'].max()/austriaMay['Confirmed'].max()*100\n",
    "austriaJunPer = austriaJun['Deaths'].max()/austriaJun['Confirmed'].max()*100\n",
    "austriaJulPer = austriaJul['Deaths'].max()/austriaJul['Confirmed'].max()*100"
   ]
  },
  {
   "cell_type": "markdown",
   "metadata": {},
   "source": [
    "For each country relevant to the paper the percentage for deaths per case was calculated"
   ]
  },
  {
   "cell_type": "code",
   "execution_count": 19,
   "metadata": {},
   "outputs": [
    {
     "name": "stdout",
     "output_type": "stream",
     "text": [
      "Deaths per case\n",
      "Greece:  4.78 %\n",
      "Russia:  1.63 %\n",
      "Montenegro:  1.56 %\n",
      "Australia:  1.09 %\n",
      "New Zealand:  1.41 %\n",
      "Hungary:  13.40 %\n",
      "Netherlands:  11.53 %\n",
      "Sweden:  7.18 %\n",
      "United Kingdom:  15.19 %\n",
      "Canada:  7.68 %\n",
      "Brazil:  3.59 %\n",
      "Mexico:  11.13 %\n",
      "Isreal:  0.74 %\n",
      "Lebanon:  1.31 %\n",
      "Bulgaria:  3.27 %\n",
      "Estonia:  3.39 %\n",
      "Vietnam:  0.00 %\n",
      "Iran: 5.42 %\n"
     ]
    }
   ],
   "source": [
    "print('Deaths per case')\n",
    "print('Greece: ', format(Greece['Deaths'].max()/Greece['Confirmed'].max()*100,'.2f'),\"%\")\n",
    "print('Russia: ', format(Russia['Deaths'].max()/Russia['Confirmed'].max()*100,'.2f'),\"%\")\n",
    "print('Montenegro: ', format(Montenegro['Deaths'].max()/Montenegro['Confirmed'].max()*100, '.2f'),\"%\")\n",
    "print('Australia: ', format(Australia['Deaths'].max()/Australia['Confirmed'].max()*100, '.2f'),\"%\")\n",
    "print('New Zealand: ', format(NewZeland['Deaths'].max()/NewZeland['Confirmed'].max()*100, '.2f'),\"%\")\n",
    "print('Hungary: ', format(Hungary['Deaths'].max()/Hungary['Confirmed'].max()*100, '.2f'),\"%\")\n",
    "print('Netherlands: ', format(Netherladns['Deaths'].max()/Netherladns['Confirmed'].max()*100, '.2f'),\"%\")\n",
    "print('Sweden: ', format(Sweden['Deaths'].max()/Sweden['Confirmed'].max()*100, '.2f'),\"%\")\n",
    "print('United Kingdom: ', format(UnitedKingdom['Deaths'].max()/UnitedKingdom['Confirmed'].max()*100, '.2f'),\"%\")\n",
    "print('Canada: ', format(Canada['Deaths'].max()/Canada['Confirmed'].max()*100, '.2f'),\"%\")\n",
    "print('Brazil: ', format(Brazil['Deaths'].max()/Brazil['Confirmed'].max()*100, '.2f'),\"%\")\n",
    "print('Mexico: ', format(Mexico['Deaths'].max()/Mexico['Confirmed'].max()*100, '.2f'),\"%\")\n",
    "print('Isreal: ', format(Israel['Deaths'].max()/Israel['Confirmed'].max()*100, '.2f'),\"%\")\n",
    "print('Lebanon: ', format(Lebanon['Deaths'].max()/Lebanon['Confirmed'].max()*100, '.2f'),\"%\")\n",
    "print('Bulgaria: ', format(Bulgaria['Deaths'].max()/Bulgaria['Confirmed'].max()*100, '.2f'),\"%\")\n",
    "print('Estonia: ', format(Estonia['Deaths'].max()/Estonia['Confirmed'].max()*100, '.2f'),\"%\")\n",
    "print('Vietnam: ', format(Vietman['Deaths'].max()/Vietman['Confirmed'].max()*100, '.2f'),\"%\")\n",
    "print(\"Iran:\", format(Iran['Deaths'].max()/Iran['Confirmed'].max()*100, '.2f'), '%')"
   ]
  },
  {
   "cell_type": "markdown",
   "metadata": {},
   "source": [
    "Vietnam was the only country that didn't have recorded deaths in the dataset, after researching it was reported that Vietnam had their first death late July. \n",
    "\n",
    "https://www.bbc.com/news/world-asia-53606917\n",
    "\n",
    "https://www.usnews.com/news/world-report/articles/2020-07-31/vietnam-records-first-coronavirus-death-amid-new-outbreak"
   ]
  },
  {
   "cell_type": "markdown",
   "metadata": {},
   "source": [
    "Creation of lists with percentages separate for each country"
   ]
  },
  {
   "cell_type": "code",
   "execution_count": 20,
   "metadata": {},
   "outputs": [],
   "source": [
    "finlandPercentages = [finlandJanPer, finlandFebPer, finlandMarPer, finlandAprPer, finlandMayPer, finlandJunPer, finlandJulPer]\n",
    "italyPercentages = [italyJanPer, italyFebPer, italyMarPer, italyAprPer, italyMayPer, italyJunPer, italyJulPer]\n",
    "japanPercentages = [japanJanPer, japanFebPer, japanMarPer, japanAprPer, japanMayPer, japanJunPer, japanJulPer]\n",
    "icelandPercentages = [icelandJanPer, icelandFebPer, icelandMarPer,icelandAprPer, icelandMayPer, icelandJunPer, icelandJulPer]\n",
    "southKoreaPercentages = [southKoreaJanPer, southKoreaFebPer, southKoreaMarPer, southKoreaAprPer, southKoreaMayPer, southKoreaJunPer, southKoreaJulPer]\n",
    "georgiaPercentages = [georgiaJanPer, georgiaFebPer, georgiaMarPer, georgiaAprPer, georgiaMayPer, georgiaJunPer, georgiaJulPer]\n",
    "\n",
    "totalItalyPercentage = sum(italyPercentages)/7\n",
    "totalJapanPercentage= sum(japanPercentages)/7\n",
    "totalFinlandPercentage = sum(finlandPercentages)/7\n",
    "totalIcelandPercentages = sum(icelandPercentages)/7\n",
    "totalSouthKoreaPercentages = sum(southKoreaPercentages)/7\n",
    "totalGeorgiaPercentages = sum(georgiaPercentages)/7\n",
    "\n",
    "netherlandsPercentages = [netherlandsJanPer, netherlandsFebPer, netherlandsMarPer, netherlandsAprPer, netherlandsMayPer, netherlandsJunPer, netherlandsJulPer]\n",
    "swedenPercentages = [swedenJanPer, swedenFebPer, swedenMarPer, swedenAprPer, swedenMayPer, swedenJunPer, swedenJulPer]\n",
    "UKPercentages = [UKJanPer, UKFebPer, UKMarPer, UKAprPer, UKMayPer, UKJunPer, UKJulPer]\n",
    "\n",
    "totalNetherlandsPercentages = sum(netherlandsPercentages)/7\n",
    "totalSwedenPercentages = sum(swedenPercentages)/7\n",
    "totalUKPercentages = sum(UKPercentages)/7\n",
    "\n",
    "chinaPercentages = [chinaJanPer, chinaFebPer, chinaMarPer, chinaAprPer, chinaMayPer, chinaJunPer, chinaJulPer]\n",
    "estoniaPercentanges = [estoniaJanPer, estoniaFebPer, estoniaMarPer, estoniaAprPer, estoniaMayPer, estoniaJunPer, estoniaJulPer]\n",
    "\n",
    "totalChinaPercentages = sum(chinaPercentages)/7\n",
    "totalEstoniaPercentages = sum(estoniaPercentanges)/7\n",
    "totalIcelandPercentages = sum(icelandPercentages)/7\n",
    "\n",
    "greecePercentages = [greeceJanPer, greeceFebPer, greeceMarPer, greeceAprPer, greeceMayPer, greeceJunPer, greeceJulPer]\n",
    "russiaPercentages = [russiaJanPer, russiaFebPer, russiaMarPer, russiaAprPer, russiaMayPer, russiaJunPer, russiaJulPer]\n",
    "montenegroPercentages = [montenegroJanPer, montenegroFebPer, montenegroMarPer,montenegroAprPer, montenegroMayPer, montenegroJunPer, montenegroJulPer]\n",
    "canadaPercentages = [canadaJanPer, canadaFebPer, canadaMarPer,canadaAprPer, canadaMayPer, canadaJunPer, canadaJulPer]\n",
    "mexicoPercentages = [mexicoJanPer, mexicoFebPer, mexicoMarPer, mexicoAprPer, mexicoMayPer, mexicoJunPer, mexicoJulPer]\n",
    "iranPercentages = [iranJanPer, iranFebPer, iranMarPer, iranAprPer, iranMayPer, iranJunPer, iranJulPer]\n",
    "\n",
    "australiaPercentages = [australiaJanPer, australiaFebPer, australiaMarPer, australiaAprPer, australiaMayPer, australiaJunPer, australiaJulPer]\n",
    "newZealandPercentages = [newZealndJanPer, newZealndFebPer, newZealndMarPer, newZealndAprPer, newZealndMayPer, newZealndJunPer, newZealndJulPer]\n",
    "hungaryPercentages = [hungaryJanPer, hungaryFebPer, hungaryMarPer, hungaryAprPer, hungaryMayPer, hungaryJunPer, hungaryJulPer]\n",
    "israelPercentages = [israelJanPer, israelFebPer, israelMarPer, israelAprPer, israelMayPer, israelJunPer, israelJulPer]\n",
    "lebanonPercentages = [lebanonJanPer, lebanonFebPer, lebanonMarPer, lebanonAprPer, lebanonMayPer, lebanonJunPer, lebanonJulPer]\n",
    "austriaPercentages = [austriaJanPer, australiaFebPer, austriaMarPer, austriaAprPer, austriaMayPer, austriaJunPer, austriaJulPer]\n"
   ]
  },
  {
   "cell_type": "markdown",
   "metadata": {},
   "source": [
    "Boxplots for every heath concern category, showing the percentages of every month"
   ]
  },
  {
   "cell_type": "markdown",
   "metadata": {},
   "source": [
    "Health concern: old age"
   ]
  },
  {
   "cell_type": "code",
   "execution_count": 21,
   "metadata": {},
   "outputs": [
    {
     "data": {
      "image/png": "[encoded data removed]",
      "text/plain": [
       "<Figure size 432x288 with 1 Axes>"
      ]
     },
     "metadata": {
      "needs_background": "light"
     },
     "output_type": "display_data"
    }
   ],
   "source": [
    "fig = plt.figure()\n",
    "ax = fig.add_subplot(111)\n",
    "ax.boxplot([italyPercentages,japanPercentages, finlandPercentages, icelandPercentages, southKoreaPercentages, georgiaPercentages], labels=['Italy', 'Japan', 'Finland', 'Iceland', 'South Korea', 'Georgia'])\n",
    "ax.set_title('Monthly percentages, Deaths per case, Oldest population')\n",
    "plt.show()"
   ]
  },
  {
   "cell_type": "markdown",
   "metadata": {},
   "source": [
    "Health concern : smoking"
   ]
  },
  {
   "cell_type": "code",
   "execution_count": 22,
   "metadata": {},
   "outputs": [
    {
     "data": {
      "image/png": "[encoded data removed]",
      "text/plain": [
       "<Figure size 432x288 with 1 Axes>"
      ]
     },
     "metadata": {
      "needs_background": "light"
     },
     "output_type": "display_data"
    }
   ],
   "source": [
    "fig = plt.figure()\n",
    "ax = fig.add_subplot(111)\n",
    "ax.boxplot([greecePercentages, russiaPercentages, montenegroPercentages, canadaPercentages, mexicoPercentages, iranPercentages], labels=['Greece', 'Russia', 'Montenegro','Canada', 'Mexico', 'Iran'])\n",
    "ax.set_title('Monthly percentages, Deaths per case, Smoking')\n",
    "plt.show()"
   ]
  },
  {
   "cell_type": "markdown",
   "metadata": {},
   "source": [
    "Health concern: asthma"
   ]
  },
  {
   "cell_type": "code",
   "execution_count": 23,
   "metadata": {},
   "outputs": [
    {
     "data": {
      "image/png": "[encoded data removed]",
      "text/plain": [
       "<Figure size 432x288 with 1 Axes>"
      ]
     },
     "metadata": {
      "needs_background": "light"
     },
     "output_type": "display_data"
    }
   ],
   "source": [
    "fig = plt.figure()\n",
    "ax = fig.add_subplot(111)\n",
    "ax.boxplot([netherlandsPercentages,swedenPercentages, UKPercentages, estoniaPercentanges, georgiaPercentages, chinaPercentages], labels=['Netherlands', 'Sweden', 'UK', 'Estonia', 'Georgia', 'China'])\n",
    "ax.set_title('Monthly percentages, Deaths per case, Asthma')\n",
    "plt.show()"
   ]
  },
  {
   "cell_type": "markdown",
   "metadata": {},
   "source": [
    "Health concern: cancer"
   ]
  },
  {
   "cell_type": "code",
   "execution_count": 24,
   "metadata": {},
   "outputs": [
    {
     "data": {
      "image/png": "[encoded data removed]",
      "text/plain": [
       "<Figure size 432x288 with 1 Axes>"
      ]
     },
     "metadata": {
      "needs_background": "light"
     },
     "output_type": "display_data"
    }
   ],
   "source": [
    "fig = plt.figure()\n",
    "ax = fig.add_subplot(111)\n",
    "ax.boxplot([australiaPercentages, newZealandPercentages, hungaryPercentages, israelPercentages, lebanonPercentages, austriaPercentages], labels=['Australia', 'New Zealand', 'Hungary', 'Israel', 'Lebanon', 'Austria'])\n",
    "ax.set_title('Monthly percentages, Deaths per case, Cancer')\n",
    "plt.show()"
   ]
  },
  {
   "cell_type": "markdown",
   "metadata": {},
   "source": [
    "Line plots that display clearly the development of the virus in every country (Deaths per cases)"
   ]
  },
  {
   "cell_type": "markdown",
   "metadata": {},
   "source": [
    "Health concern: old age"
   ]
  },
  {
   "cell_type": "code",
   "execution_count": 25,
   "metadata": {},
   "outputs": [],
   "source": [
    "x = ['Jan', \"Feb\", 'Mar', 'Apr', \"May\", 'Jun', 'Jul']\n",
    "y = [italyJanPer, italyFebPer, italyMarPer, italyAprPer, italyMayPer, italyJunPer, italyJulPer]\n",
    "x2  = ['Jan', \"Feb\", 'Mar', 'Apr', \"May\", 'Jun', 'Jul']\n",
    "y2 = [japanJanPer, japanFebPer, japanMarPer, japanAprPer, japanMayPer, japanJunPer, japanJulPer]\n",
    "x3 = ['Jan', \"Feb\", 'Mar', 'Apr', \"May\", 'Jun', 'Jul']\n",
    "y3 = [finlandJanPer, finlandFebPer, finlandMarPer, finlandAprPer, finlandMayPer, finlandJunPer, finlandJulPer]\n",
    "x4 = ['Jan', \"Feb\", 'Mar', 'Apr', \"May\", 'Jun', 'Jul']\n",
    "y4 = [icelandJanPer, icelandFebPer, icelandMarPer,icelandAprPer, icelandMayPer, icelandJunPer, icelandJulPer]\n",
    "x5 = ['Jan', \"Feb\", 'Mar', 'Apr', \"May\", 'Jun', 'Jul']\n",
    "y5 = [southKoreaJanPer, southKoreaFebPer, southKoreaMarPer, southKoreaAprPer, southKoreaMayPer, southKoreaJunPer, southKoreaJulPer]\n",
    "x6 = ['Jan', \"Feb\", 'Mar', 'Apr', \"May\", 'Jun', 'Jul']\n",
    "y6 = [georgiaJanPer, georgiaFebPer, georgiaMarPer, georgiaAprPer, georgiaMayPer, georgiaJunPer, georgiaJulPer]"
   ]
  },
  {
   "cell_type": "code",
   "execution_count": 26,
   "metadata": {},
   "outputs": [
    {
     "data": {
      "image/png": "[encoded data removed]",
      "text/plain": [
       "<Figure size 432x288 with 1 Axes>"
      ]
     },
     "metadata": {
      "needs_background": "light"
     },
     "output_type": "display_data"
    }
   ],
   "source": [
    "plt.title(\"OLDEST POPULATION\")\n",
    "plt.plot(x, y, label = 'Italy')\n",
    "plt.plot(x2, y2, label = 'Japan')\n",
    "plt.plot(x3, y3, label ='Finland')\n",
    "plt.plot(x4, y4, label = 'Iceland')\n",
    "plt.plot(x5, y5 ,label = 'South Korea')\n",
    "plt.plot(x6,y6, label = 'Georgia')\n",
    "plt.legend()\n",
    "plt.show()"
   ]
  },
  {
   "cell_type": "markdown",
   "metadata": {},
   "source": [
    "Health concern: smoking"
   ]
  },
  {
   "cell_type": "code",
   "execution_count": 27,
   "metadata": {},
   "outputs": [
    {
     "data": {
      "image/png": "[encoded data removed]",
      "text/plain": [
       "<Figure size 432x288 with 1 Axes>"
      ]
     },
     "metadata": {
      "needs_background": "light"
     },
     "output_type": "display_data"
    }
   ],
   "source": [
    "x  = ['Jan', \"Feb\", \"Mar\", \"Apr\", \"May\", \"Jun\", \"Jul\"]\n",
    "y  = [greeceJanPer, greeceFebPer, greeceMarPer, greeceAprPer, greeceMayPer, greeceJunPer, greeceJulPer]\n",
    "\n",
    "y2 = [russiaJanPer, russiaFebPer, russiaMarPer, russiaAprPer, russiaMayPer, russiaJunPer, russiaJulPer]\n",
    "\n",
    "y3 = [montenegroJanPer, montenegroFebPer, montenegroMarPer, montenegroAprPer,montenegroMayPer, montenegroJunPer, montenegroJulPer]\n",
    "\n",
    "y4 = [canadaJanPer, canadaFebPer, canadaMarPer, canadaAprPer, canadaMayPer, canadaJunPer, canadaJulPer]\n",
    "\n",
    "y5 = [mexicoJanPer, mexicoFebPer, mexicoMarPer, mexicoAprPer, mexicoMayPer, mexicoJunPer, mexicoJulPer]\n",
    "\n",
    "y6 = iranJanPer, iranFebPer, iranMarPer, iranAprPer, iranMayPer, iranJunPer, iranJulPer\n",
    "\n",
    "plt.title(\"SMOKING\")\n",
    "plt.plot(x,y, label = 'Greece')\n",
    "plt.plot(x,y2, label = 'Russia')\n",
    "plt.plot(x,y3, label = 'Montenegro')\n",
    "plt.plot(x,y4, label = 'Canada')\n",
    "plt.plot(x,y5, label = 'Mexico')\n",
    "plt.plot(x,y6, label = 'Iran')\n",
    "plt.legend()\n",
    "plt.show()"
   ]
  },
  {
   "cell_type": "markdown",
   "metadata": {},
   "source": [
    "Health concern: asthma"
   ]
  },
  {
   "cell_type": "code",
   "execution_count": 28,
   "metadata": {},
   "outputs": [
    {
     "data": {
      "image/png": "[encoded data removed]",
      "text/plain": [
       "<Figure size 432x288 with 1 Axes>"
      ]
     },
     "metadata": {
      "needs_background": "light"
     },
     "output_type": "display_data"
    }
   ],
   "source": [
    "x  = ['Jan', \"Feb\", \"Mar\", \"Apr\", \"May\", \"Jun\", \"Jul\"]\n",
    "y  = [netherlandsJanPer, netherlandsFebPer, netherlandsMarPer, netherlandsAprPer, netherlandsMayPer, netherlandsJunPer, netherlandsJulPer]\n",
    "x2 = ['Jan', \"Feb\", \"Mar\", \"Apr\", \"May\", \"Jun\", \"Jul\"]\n",
    "y2 = [swedenJanPer, swedenFebPer, swedenMarPer, swedenAprPer, swedenMayPer, swedenJunPer, swedenJulPer]\n",
    "x3 = ['Jan', \"Feb\", \"Mar\", \"Apr\", \"May\", \"Jun\", \"Jul\"]\n",
    "y3 = [UKJanPer, UKFebPer, UKMarPer, UKAprPer, UKMayPer,UKJunPer, UKJulPer]\n",
    "x4 = ['Jan', \"Feb\", \"Mar\", \"Apr\", \"May\", \"Jun\", \"Jul\"]\n",
    "y4 = [estoniaJanPer, estoniaFebPer, estoniaMarPer,estoniaAprPer,estoniaMayPer, estoniaJunPer, estoniaJulPer]\n",
    "x5 = ['Jan', \"Feb\", \"Mar\", \"Apr\", \"May\", \"Jun\", \"Jul\"]\n",
    "y5 = [georgiaJanPer, georgiaFebPer, georgiaMarPer,georgiaAprPer, georgiaMayPer, georgiaJunPer, georgiaJulPer]\n",
    "x6 = ['Jan', \"Feb\", \"Mar\", \"Apr\", \"May\", \"Jun\", \"Jul\"]\n",
    "y6 = [chinaJanPer, chinaFebPer,chinaMarPer, chinaAprPer, chinaMayPer, chinaJunPer, chinaJulPer]\n",
    "\n",
    "plt.title( 'ASTHMA')\n",
    "plt.plot(x,y, label = 'Netherlands')\n",
    "plt.plot(x2,y2, label = 'Sweden')\n",
    "plt.plot(x3,y3, label = 'United Kingdom')\n",
    "plt.plot(x4,y4, label = 'Estonia')\n",
    "plt.plot(x5,y5, label = 'Georgia')\n",
    "plt.plot(x6,y6, label = 'China')\n",
    "plt.legend()\n",
    "plt.show()"
   ]
  },
  {
   "cell_type": "markdown",
   "metadata": {},
   "source": [
    "Health concern: cancer"
   ]
  },
  {
   "cell_type": "code",
   "execution_count": 29,
   "metadata": {},
   "outputs": [
    {
     "data": {
      "image/png": "[encoded data removed]",
      "text/plain": [
       "<Figure size 432x288 with 1 Axes>"
      ]
     },
     "metadata": {
      "needs_background": "light"
     },
     "output_type": "display_data"
    }
   ],
   "source": [
    "x  = ['Jan', \"Feb\", \"Mar\", \"Apr\", \"May\", \"Jun\", \"Jul\"]\n",
    "y  = [australiaJanPer, australiaFebPer, australiaMarPer, australiaAprPer, australiaMayPer, australiaJunPer, australiaJulPer]\n",
    "y2 = [newZealndJanPer, newZealndFebPer, newZealndMarPer, newZealndAprPer, newZealndMayPer, newZealndJunPer, newZealndJulPer]\n",
    "y3 = [hungaryJanPer, hungaryFebPer, hungaryMarPer, hungaryAprPer, hungaryMayPer, hungaryJunPer, hungaryJulPer]\n",
    "y4 = [israelJanPer, israelFebPer, israelMarPer, israelAprPer, israelMayPer, israelJunPer, israelJulPer]\n",
    "y5 = [lebanonJanPer, lebanonFebPer, lebanonMarPer, lebanonAprPer, lebanonMayPer, lebanonJunPer, lebanonJulPer]\n",
    "y6 = [austriaJanPer, austriaFebPer, austriaMarPer, austriaAprPer, austriaMayPer, austriaJunPer, australiaJulPer]\n",
    "plt.title(\"CANCER\")\n",
    "plt.plot(x,y, label = 'Australia')\n",
    "plt.plot(x,y2, label = 'New Zealand')\n",
    "plt.plot(x,y3, label = 'Hungary')\n",
    "plt.plot(x,y4, label = 'Isreal')\n",
    "plt.plot(x,y5, label = 'Lebanon')\n",
    "plt.plot(x,y6, label = 'Austria')\n",
    "plt.legend()\n",
    "plt.show()"
   ]
  },
  {
   "cell_type": "markdown",
   "metadata": {},
   "source": [
    "For July, which is the last month in the dataset and death cases and confirmed cases are cumulative, bar plots are created to visualise the percentage of each country seperated in the four categories. Then follows 4 seperate tables that displays the numberical percentage"
   ]
  },
  {
   "cell_type": "code",
   "execution_count": 30,
   "metadata": {},
   "outputs": [
    {
     "data": {
      "image/png": "[encoded data removed]",
      "text/plain": [
       "<Figure size 432x288 with 1 Axes>"
      ]
     },
     "metadata": {
      "needs_background": "light"
     },
     "output_type": "display_data"
    }
   ],
   "source": [
    "x = [italyJulPer, japanJulPer, finlandJulPer, icelandJulPer, southKoreaJulPer, georgiaJulPer]\n",
    "y = ['Italy', 'Japan', 'Finland', 'Iceland', 'South Korea', 'Georgia']\n",
    "fig,ax = plt.subplots()\n",
    "ax.bar(y, x)\n",
    "ax.set(xlabel = \"Country\", \n",
    "ylabel = 'Percentage', \n",
    "title = 'Percentages of Deaths per case until July, Oldest Population')\n",
    "plt.xticks(rotation=90)\n",
    "plt.show()"
   ]
  },
  {
   "cell_type": "code",
   "execution_count": 31,
   "metadata": {},
   "outputs": [
    {
     "name": "stdout",
     "output_type": "stream",
     "text": [
      "       Old Age\n",
      " \n"
     ]
    },
    {
     "data": {
      "text/html": [
       "<div>\n",
       "<style scoped>\n",
       "    .dataframe tbody tr th:only-of-type {\n",
       "        vertical-align: middle;\n",
       "    }\n",
       "\n",
       "    .dataframe tbody tr th {\n",
       "        vertical-align: top;\n",
       "    }\n",
       "\n",
       "    .dataframe thead th {\n",
       "        text-align: right;\n",
       "    }\n",
       "</style>\n",
       "<table border=\"1\" class=\"dataframe\">\n",
       "  <thead>\n",
       "    <tr style=\"text-align: right;\">\n",
       "      <th></th>\n",
       "      <th>Country</th>\n",
       "      <th>July</th>\n",
       "    </tr>\n",
       "  </thead>\n",
       "  <tbody>\n",
       "    <tr>\n",
       "      <th>0</th>\n",
       "      <td>Italy</td>\n",
       "      <td>14.256596</td>\n",
       "    </tr>\n",
       "    <tr>\n",
       "      <th>1</th>\n",
       "      <td>Japan</td>\n",
       "      <td>3.204675</td>\n",
       "    </tr>\n",
       "    <tr>\n",
       "      <th>2</th>\n",
       "      <td>Finland</td>\n",
       "      <td>4.447148</td>\n",
       "    </tr>\n",
       "    <tr>\n",
       "      <th>3</th>\n",
       "      <td>Iceland</td>\n",
       "      <td>0.539374</td>\n",
       "    </tr>\n",
       "    <tr>\n",
       "      <th>4</th>\n",
       "      <td>South Korea</td>\n",
       "      <td>2.112230</td>\n",
       "    </tr>\n",
       "    <tr>\n",
       "      <th>5</th>\n",
       "      <td>Geogria</td>\n",
       "      <td>1.407212</td>\n",
       "    </tr>\n",
       "  </tbody>\n",
       "</table>\n",
       "</div>"
      ],
      "text/plain": [
       "       Country       July\n",
       "0        Italy  14.256596\n",
       "1        Japan   3.204675\n",
       "2      Finland   4.447148\n",
       "3      Iceland   0.539374\n",
       "4  South Korea   2.112230\n",
       "5      Geogria   1.407212"
      ]
     },
     "execution_count": 31,
     "metadata": {},
     "output_type": "execute_result"
    }
   ],
   "source": [
    "ent3 = [italyJulPer, japanJulPer,finlandJulPer, icelandJulPer, southKoreaJulPer, georgiaJulPer]\n",
    "country3 = ['Italy', 'Japan', 'Finland', 'Iceland', 'South Korea', 'Geogria']\n",
    "dictionary3 = {'Country': country3, 'July': ent3}\n",
    "df3 = pd.DataFrame(dictionary3)\n",
    "print('       Old Age')\n",
    "print(' ')\n",
    "df3"
   ]
  },
  {
   "cell_type": "code",
   "execution_count": 32,
   "metadata": {},
   "outputs": [
    {
     "data": {
      "image/png": "[encoded data removed]",
      "text/plain": [
       "<Figure size 432x288 with 1 Axes>"
      ]
     },
     "metadata": {
      "needs_background": "light"
     },
     "output_type": "display_data"
    }
   ],
   "source": [
    "x = [greeceJulPer, russiaJulPer, montenegroJulPer, canadaJulPer, mexicoJulPer, iranJulPer]\n",
    "y = ['Greece', 'Russia', 'Montenegro', 'Canada', 'Mexico', 'Iran']\n",
    "fig,ax = plt.subplots()\n",
    "ax.bar(y, x)\n",
    "ax.set(xlabel = \"Country\", \n",
    "ylabel = 'Percentage', \n",
    "title = 'Percentages of Deaths per case until July, Smokers')\n",
    "plt.xticks(rotation=90)\n",
    "plt.show()"
   ]
  },
  {
   "cell_type": "code",
   "execution_count": 33,
   "metadata": {},
   "outputs": [
    {
     "name": "stdout",
     "output_type": "stream",
     "text": [
      "        Smoking\n",
      " \n"
     ]
    },
    {
     "data": {
      "text/html": [
       "<div>\n",
       "<style scoped>\n",
       "    .dataframe tbody tr th:only-of-type {\n",
       "        vertical-align: middle;\n",
       "    }\n",
       "\n",
       "    .dataframe tbody tr th {\n",
       "        vertical-align: top;\n",
       "    }\n",
       "\n",
       "    .dataframe thead th {\n",
       "        text-align: right;\n",
       "    }\n",
       "</style>\n",
       "<table border=\"1\" class=\"dataframe\">\n",
       "  <thead>\n",
       "    <tr style=\"text-align: right;\">\n",
       "      <th></th>\n",
       "      <th>Country</th>\n",
       "      <th>July</th>\n",
       "    </tr>\n",
       "  </thead>\n",
       "  <tbody>\n",
       "    <tr>\n",
       "      <th>0</th>\n",
       "      <td>Greece</td>\n",
       "      <td>4.778803</td>\n",
       "    </tr>\n",
       "    <tr>\n",
       "      <th>1</th>\n",
       "      <td>Russia</td>\n",
       "      <td>1.632708</td>\n",
       "    </tr>\n",
       "    <tr>\n",
       "      <th>2</th>\n",
       "      <td>Montenegro</td>\n",
       "      <td>1.555479</td>\n",
       "    </tr>\n",
       "    <tr>\n",
       "      <th>3</th>\n",
       "      <td>Canada</td>\n",
       "      <td>7.680022</td>\n",
       "    </tr>\n",
       "    <tr>\n",
       "      <th>4</th>\n",
       "      <td>Mexico</td>\n",
       "      <td>11.131030</td>\n",
       "    </tr>\n",
       "    <tr>\n",
       "      <th>5</th>\n",
       "      <td>Iran</td>\n",
       "      <td>5.419508</td>\n",
       "    </tr>\n",
       "  </tbody>\n",
       "</table>\n",
       "</div>"
      ],
      "text/plain": [
       "      Country       July\n",
       "0      Greece   4.778803\n",
       "1      Russia   1.632708\n",
       "2  Montenegro   1.555479\n",
       "3      Canada   7.680022\n",
       "4      Mexico  11.131030\n",
       "5        Iran   5.419508"
      ]
     },
     "execution_count": 33,
     "metadata": {},
     "output_type": "execute_result"
    }
   ],
   "source": [
    "ent4 = [greeceJulPer, russiaJulPer, montenegroJulPer, canadaJulPer, mexicoJulPer, iranJulPer]\n",
    "country4 = ['Greece', 'Russia', 'Montenegro', 'Canada', 'Mexico', 'Iran']\n",
    "dictionary4 = {'Country': country4, 'July': ent4}\n",
    "df4 = pd.DataFrame(dictionary4)\n",
    "print('        Smoking')\n",
    "print(' ')\n",
    "df4"
   ]
  },
  {
   "cell_type": "code",
   "execution_count": 34,
   "metadata": {},
   "outputs": [
    {
     "data": {
      "image/png": "[encoded data removed]",
      "text/plain": [
       "<Figure size 432x288 with 1 Axes>"
      ]
     },
     "metadata": {
      "needs_background": "light"
     },
     "output_type": "display_data"
    }
   ],
   "source": [
    "x = [netherlandsJulPer, swedenJulPer, UKJulPer, georgiaJulPer, estoniaJulPer, chinaJulPer]\n",
    "y = ['Nethelands', 'Sweden', 'UK', 'Georgia', 'Estonia', 'China']\n",
    "fig,ax = plt.subplots()\n",
    "ax.bar(y, x)\n",
    "ax.set(xlabel = \"Country\", \n",
    "ylabel = 'Percentage', \n",
    "title = 'Percentages of Deaths per case until July, Asthma')\n",
    "plt.xticks(rotation=90)\n",
    "plt.show()"
   ]
  },
  {
   "cell_type": "code",
   "execution_count": 35,
   "metadata": {},
   "outputs": [
    {
     "name": "stdout",
     "output_type": "stream",
     "text": [
      "          Asthma\n",
      " \n"
     ]
    },
    {
     "data": {
      "text/html": [
       "<div>\n",
       "<style scoped>\n",
       "    .dataframe tbody tr th:only-of-type {\n",
       "        vertical-align: middle;\n",
       "    }\n",
       "\n",
       "    .dataframe tbody tr th {\n",
       "        vertical-align: top;\n",
       "    }\n",
       "\n",
       "    .dataframe thead th {\n",
       "        text-align: right;\n",
       "    }\n",
       "</style>\n",
       "<table border=\"1\" class=\"dataframe\">\n",
       "  <thead>\n",
       "    <tr style=\"text-align: right;\">\n",
       "      <th></th>\n",
       "      <th>Country</th>\n",
       "      <th>July</th>\n",
       "    </tr>\n",
       "  </thead>\n",
       "  <tbody>\n",
       "    <tr>\n",
       "      <th>0</th>\n",
       "      <td>Netherlands</td>\n",
       "      <td>11.532773</td>\n",
       "    </tr>\n",
       "    <tr>\n",
       "      <th>1</th>\n",
       "      <td>Sweden</td>\n",
       "      <td>7.179293</td>\n",
       "    </tr>\n",
       "    <tr>\n",
       "      <th>2</th>\n",
       "      <td>United Kingdom</td>\n",
       "      <td>15.194824</td>\n",
       "    </tr>\n",
       "    <tr>\n",
       "      <th>3</th>\n",
       "      <td>Georgia</td>\n",
       "      <td>1.407212</td>\n",
       "    </tr>\n",
       "    <tr>\n",
       "      <th>4</th>\n",
       "      <td>Estonia</td>\n",
       "      <td>3.392330</td>\n",
       "    </tr>\n",
       "    <tr>\n",
       "      <th>5</th>\n",
       "      <td>China</td>\n",
       "      <td>5.365106</td>\n",
       "    </tr>\n",
       "  </tbody>\n",
       "</table>\n",
       "</div>"
      ],
      "text/plain": [
       "          Country       July\n",
       "0     Netherlands  11.532773\n",
       "1          Sweden   7.179293\n",
       "2  United Kingdom  15.194824\n",
       "3         Georgia   1.407212\n",
       "4         Estonia   3.392330\n",
       "5           China   5.365106"
      ]
     },
     "execution_count": 35,
     "metadata": {},
     "output_type": "execute_result"
    }
   ],
   "source": [
    "ent2 = [netherlandsJulPer, swedenJulPer, UKJulPer, georgiaJulPer,estoniaJulPer, chinaJulPer]\n",
    "country2 = ['Netherlands', 'Sweden', 'United Kingdom', 'Georgia', 'Estonia', 'China']\n",
    "dictionary2 = {'Country': country2, 'July': ent2}\n",
    "df2 = pd.DataFrame(dictionary2)\n",
    "print('          Asthma')\n",
    "print(' ')\n",
    "df2"
   ]
  },
  {
   "cell_type": "code",
   "execution_count": 36,
   "metadata": {},
   "outputs": [
    {
     "data": {
      "image/png": "[encoded data removed]",
      "text/plain": [
       "<Figure size 432x288 with 1 Axes>"
      ]
     },
     "metadata": {
      "needs_background": "light"
     },
     "output_type": "display_data"
    }
   ],
   "source": [
    "x = [australiaJulPer, newZealndJulPer, hungaryJulPer, israelJulPer, lebanonJulPer, austriaJulPer]\n",
    "y = ['Australia', 'New Zealand', 'Hungary', 'Israel', 'Lebanon', 'Austria']\n",
    "fig,ax = plt.subplots()\n",
    "ax.bar(y, x)\n",
    "ax.set(xlabel = \"Country\", \n",
    "ylabel = 'Percentage', \n",
    "title = 'Percentages of Deaths per case until July, Cancer')\n",
    "plt.xticks(rotation=90)\n",
    "plt.show()"
   ]
  },
  {
   "cell_type": "code",
   "execution_count": 37,
   "metadata": {},
   "outputs": [
    {
     "name": "stdout",
     "output_type": "stream",
     "text": [
      "        Cancer\n",
      " \n"
     ]
    },
    {
     "data": {
      "text/html": [
       "<div>\n",
       "<style scoped>\n",
       "    .dataframe tbody tr th:only-of-type {\n",
       "        vertical-align: middle;\n",
       "    }\n",
       "\n",
       "    .dataframe tbody tr th {\n",
       "        vertical-align: top;\n",
       "    }\n",
       "\n",
       "    .dataframe thead th {\n",
       "        text-align: right;\n",
       "    }\n",
       "</style>\n",
       "<table border=\"1\" class=\"dataframe\">\n",
       "  <thead>\n",
       "    <tr style=\"text-align: right;\">\n",
       "      <th></th>\n",
       "      <th>Country</th>\n",
       "      <th>July</th>\n",
       "    </tr>\n",
       "  </thead>\n",
       "  <tbody>\n",
       "    <tr>\n",
       "      <th>0</th>\n",
       "      <td>Australia</td>\n",
       "      <td>1.091289</td>\n",
       "    </tr>\n",
       "    <tr>\n",
       "      <th>1</th>\n",
       "      <td>New Zealand</td>\n",
       "      <td>1.412974</td>\n",
       "    </tr>\n",
       "    <tr>\n",
       "      <th>2</th>\n",
       "      <td>Hungary</td>\n",
       "      <td>13.399281</td>\n",
       "    </tr>\n",
       "    <tr>\n",
       "      <th>3</th>\n",
       "      <td>Israel</td>\n",
       "      <td>0.740799</td>\n",
       "    </tr>\n",
       "    <tr>\n",
       "      <th>4</th>\n",
       "      <td>Lebanon</td>\n",
       "      <td>1.313756</td>\n",
       "    </tr>\n",
       "    <tr>\n",
       "      <th>5</th>\n",
       "      <td>Austria</td>\n",
       "      <td>3.468236</td>\n",
       "    </tr>\n",
       "  </tbody>\n",
       "</table>\n",
       "</div>"
      ],
      "text/plain": [
       "       Country       July\n",
       "0    Australia   1.091289\n",
       "1  New Zealand   1.412974\n",
       "2      Hungary  13.399281\n",
       "3       Israel   0.740799\n",
       "4      Lebanon   1.313756\n",
       "5      Austria   3.468236"
      ]
     },
     "execution_count": 37,
     "metadata": {},
     "output_type": "execute_result"
    }
   ],
   "source": [
    "ent = [australiaJulPer, newZealndJulPer, hungaryJulPer, israelJulPer, lebanonJulPer, austriaJulPer]\n",
    "country = ['Australia', 'New Zealand', 'Hungary', 'Israel', 'Lebanon', 'Austria']\n",
    "dictionary = {'Country': country, 'July': ent}\n",
    "df = pd.DataFrame(dictionary)\n",
    "print('        Cancer')\n",
    "print(' ')\n",
    "df"
   ]
  },
  {
   "cell_type": "code",
   "execution_count": null,
   "metadata": {},
   "outputs": [],
   "source": []
  }
 ],
 "metadata": {
  "kernelspec": {
   "display_name": "Python 3",
   "language": "python",
   "name": "python3"
  },
  "language_info": {
   "codemirror_mode": {
    "name": "ipython",
    "version": 3
   },
   "file_extension": ".py",
   "mimetype": "text/x-python",
   "name": "python",
   "nbconvert_exporter": "python",
   "pygments_lexer": "ipython3",
   "version": "3.8.3"
  }
 },
 "nbformat": 4,
 "nbformat_minor": 4
}
